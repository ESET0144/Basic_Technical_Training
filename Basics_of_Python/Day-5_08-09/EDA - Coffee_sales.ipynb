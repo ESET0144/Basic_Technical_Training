{
 "cells": [
  {
   "cell_type": "markdown",
   "id": "370b0b1b",
   "metadata": {},
   "source": [
    "## Types of Data Analysis :-\n",
    "1) Statistical Analysis - Central tendency (Mean, Median, mode) - Dispersion (Variance)\n",
    "2) Descriptive Analysis - No, of rows, columns, Null values\n",
    "3) Diagnostics Analysis\n",
    "4) Predictive Analysis\n",
    "5) Prescriptive Analysis\n",
    "6) Exploratory Data Analysis (EDA)\n",
    "7) Inferential Analysis \n",
    "\n",
    "## Types of Analytics :-\n",
    "2) Descriptive Analytics - No, of rows, columns, Null values\n",
    "3) Diagnostics Analytics\n",
    "4) Predictive Analytics\n",
    "5) Prescriptive Analytics\n",
    "\n"
   ]
  },
  {
   "cell_type": "code",
   "execution_count": 1,
   "id": "b1b72aa5",
   "metadata": {},
   "outputs": [],
   "source": [
    "import pandas as pd\n",
    "\n",
    "df = pd.read_csv(\"Coffe_sales.csv\")\n",
    "\n",
    "\n",
    "\n",
    "\n"
   ]
  },
  {
   "cell_type": "markdown",
   "id": "232e5287",
   "metadata": {},
   "source": [
    "## Descriptive Analysis"
   ]
  },
  {
   "cell_type": "code",
   "execution_count": 2,
   "id": "3f037c4c",
   "metadata": {},
   "outputs": [
    {
     "data": {
      "text/html": [
       "<div>\n",
       "<style scoped>\n",
       "    .dataframe tbody tr th:only-of-type {\n",
       "        vertical-align: middle;\n",
       "    }\n",
       "\n",
       "    .dataframe tbody tr th {\n",
       "        vertical-align: top;\n",
       "    }\n",
       "\n",
       "    .dataframe thead th {\n",
       "        text-align: right;\n",
       "    }\n",
       "</style>\n",
       "<table border=\"1\" class=\"dataframe\">\n",
       "  <thead>\n",
       "    <tr style=\"text-align: right;\">\n",
       "      <th></th>\n",
       "      <th>hour_of_day</th>\n",
       "      <th>cash_type</th>\n",
       "      <th>money</th>\n",
       "      <th>coffee_name</th>\n",
       "      <th>Time_of_Day</th>\n",
       "      <th>Weekday</th>\n",
       "      <th>Month_name</th>\n",
       "      <th>Weekdaysort</th>\n",
       "      <th>Monthsort</th>\n",
       "      <th>Date</th>\n",
       "      <th>Time</th>\n",
       "    </tr>\n",
       "  </thead>\n",
       "  <tbody>\n",
       "    <tr>\n",
       "      <th>0</th>\n",
       "      <td>10</td>\n",
       "      <td>card</td>\n",
       "      <td>38.7</td>\n",
       "      <td>Latte</td>\n",
       "      <td>Morning</td>\n",
       "      <td>Fri</td>\n",
       "      <td>Mar</td>\n",
       "      <td>5</td>\n",
       "      <td>3</td>\n",
       "      <td>2024-03-01</td>\n",
       "      <td>10:15:50.520000</td>\n",
       "    </tr>\n",
       "    <tr>\n",
       "      <th>1</th>\n",
       "      <td>12</td>\n",
       "      <td>card</td>\n",
       "      <td>38.7</td>\n",
       "      <td>Hot Chocolate</td>\n",
       "      <td>Afternoon</td>\n",
       "      <td>Fri</td>\n",
       "      <td>Mar</td>\n",
       "      <td>5</td>\n",
       "      <td>3</td>\n",
       "      <td>2024-03-01</td>\n",
       "      <td>12:19:22.539000</td>\n",
       "    </tr>\n",
       "    <tr>\n",
       "      <th>2</th>\n",
       "      <td>12</td>\n",
       "      <td>card</td>\n",
       "      <td>38.7</td>\n",
       "      <td>Hot Chocolate</td>\n",
       "      <td>Afternoon</td>\n",
       "      <td>Fri</td>\n",
       "      <td>Mar</td>\n",
       "      <td>5</td>\n",
       "      <td>3</td>\n",
       "      <td>2024-03-01</td>\n",
       "      <td>12:20:18.089000</td>\n",
       "    </tr>\n",
       "    <tr>\n",
       "      <th>3</th>\n",
       "      <td>13</td>\n",
       "      <td>card</td>\n",
       "      <td>28.9</td>\n",
       "      <td>Americano</td>\n",
       "      <td>Afternoon</td>\n",
       "      <td>Fri</td>\n",
       "      <td>Mar</td>\n",
       "      <td>5</td>\n",
       "      <td>3</td>\n",
       "      <td>2024-03-01</td>\n",
       "      <td>13:46:33.006000</td>\n",
       "    </tr>\n",
       "    <tr>\n",
       "      <th>4</th>\n",
       "      <td>13</td>\n",
       "      <td>card</td>\n",
       "      <td>38.7</td>\n",
       "      <td>Latte</td>\n",
       "      <td>Afternoon</td>\n",
       "      <td>Fri</td>\n",
       "      <td>Mar</td>\n",
       "      <td>5</td>\n",
       "      <td>3</td>\n",
       "      <td>2024-03-01</td>\n",
       "      <td>13:48:14.626000</td>\n",
       "    </tr>\n",
       "  </tbody>\n",
       "</table>\n",
       "</div>"
      ],
      "text/plain": [
       "   hour_of_day cash_type  money    coffee_name Time_of_Day Weekday Month_name  \\\n",
       "0           10      card   38.7          Latte     Morning     Fri        Mar   \n",
       "1           12      card   38.7  Hot Chocolate   Afternoon     Fri        Mar   \n",
       "2           12      card   38.7  Hot Chocolate   Afternoon     Fri        Mar   \n",
       "3           13      card   28.9      Americano   Afternoon     Fri        Mar   \n",
       "4           13      card   38.7          Latte   Afternoon     Fri        Mar   \n",
       "\n",
       "   Weekdaysort  Monthsort        Date             Time  \n",
       "0            5          3  2024-03-01  10:15:50.520000  \n",
       "1            5          3  2024-03-01  12:19:22.539000  \n",
       "2            5          3  2024-03-01  12:20:18.089000  \n",
       "3            5          3  2024-03-01  13:46:33.006000  \n",
       "4            5          3  2024-03-01  13:48:14.626000  "
      ]
     },
     "execution_count": 2,
     "metadata": {},
     "output_type": "execute_result"
    }
   ],
   "source": [
    "df.head(5)\n"
   ]
  },
  {
   "cell_type": "code",
   "execution_count": 3,
   "id": "f0ec1a9a",
   "metadata": {},
   "outputs": [
    {
     "name": "stdout",
     "output_type": "stream",
     "text": [
      "(3547, 11)\n"
     ]
    }
   ],
   "source": [
    "\n",
    "print(df.shape)\n"
   ]
  },
  {
   "cell_type": "code",
   "execution_count": 4,
   "id": "11ca7511",
   "metadata": {},
   "outputs": [
    {
     "name": "stdout",
     "output_type": "stream",
     "text": [
      "hour_of_day      int64\n",
      "cash_type       object\n",
      "money          float64\n",
      "coffee_name     object\n",
      "Time_of_Day     object\n",
      "Weekday         object\n",
      "Month_name      object\n",
      "Weekdaysort      int64\n",
      "Monthsort        int64\n",
      "Date            object\n",
      "Time            object\n",
      "dtype: object\n"
     ]
    }
   ],
   "source": [
    "print(df.dtypes)"
   ]
  },
  {
   "cell_type": "code",
   "execution_count": 5,
   "id": "022052ae",
   "metadata": {},
   "outputs": [
    {
     "name": "stdout",
     "output_type": "stream",
     "text": [
      "<bound method DataFrame.info of       hour_of_day cash_type  money    coffee_name Time_of_Day Weekday  \\\n",
      "0              10      card  38.70          Latte     Morning     Fri   \n",
      "1              12      card  38.70  Hot Chocolate   Afternoon     Fri   \n",
      "2              12      card  38.70  Hot Chocolate   Afternoon     Fri   \n",
      "3              13      card  28.90      Americano   Afternoon     Fri   \n",
      "4              13      card  38.70          Latte   Afternoon     Fri   \n",
      "...           ...       ...    ...            ...         ...     ...   \n",
      "3542           10      card  35.76     Cappuccino     Morning     Sun   \n",
      "3543           14      card  35.76          Cocoa   Afternoon     Sun   \n",
      "3544           14      card  35.76          Cocoa   Afternoon     Sun   \n",
      "3545           15      card  25.96      Americano   Afternoon     Sun   \n",
      "3546           18      card  35.76          Latte       Night     Sun   \n",
      "\n",
      "     Month_name  Weekdaysort  Monthsort        Date             Time  \n",
      "0           Mar            5          3  2024-03-01  10:15:50.520000  \n",
      "1           Mar            5          3  2024-03-01  12:19:22.539000  \n",
      "2           Mar            5          3  2024-03-01  12:20:18.089000  \n",
      "3           Mar            5          3  2024-03-01  13:46:33.006000  \n",
      "4           Mar            5          3  2024-03-01  13:48:14.626000  \n",
      "...         ...          ...        ...         ...              ...  \n",
      "3542        Mar            7          3  2025-03-23  10:34:54.894000  \n",
      "3543        Mar            7          3  2025-03-23  14:43:37.362000  \n",
      "3544        Mar            7          3  2025-03-23  14:44:16.864000  \n",
      "3545        Mar            7          3  2025-03-23  15:47:28.723000  \n",
      "3546        Mar            7          3  2025-03-23  18:11:38.635000  \n",
      "\n",
      "[3547 rows x 11 columns]>\n"
     ]
    }
   ],
   "source": [
    "print(df.info)"
   ]
  },
  {
   "cell_type": "code",
   "execution_count": 6,
   "id": "863267c1",
   "metadata": {},
   "outputs": [],
   "source": [
    "# Drop non useful columns\n",
    "\n",
    "df = df.drop([\"Time\"], axis= 1)\n",
    "\n"
   ]
  },
  {
   "cell_type": "code",
   "execution_count": 7,
   "id": "ebff260f",
   "metadata": {},
   "outputs": [
    {
     "data": {
      "text/html": [
       "<div>\n",
       "<style scoped>\n",
       "    .dataframe tbody tr th:only-of-type {\n",
       "        vertical-align: middle;\n",
       "    }\n",
       "\n",
       "    .dataframe tbody tr th {\n",
       "        vertical-align: top;\n",
       "    }\n",
       "\n",
       "    .dataframe thead th {\n",
       "        text-align: right;\n",
       "    }\n",
       "</style>\n",
       "<table border=\"1\" class=\"dataframe\">\n",
       "  <thead>\n",
       "    <tr style=\"text-align: right;\">\n",
       "      <th></th>\n",
       "      <th>hour_of_day</th>\n",
       "      <th>cash_type</th>\n",
       "      <th>money</th>\n",
       "      <th>coffee_name</th>\n",
       "      <th>Time_of_Day</th>\n",
       "      <th>Weekday</th>\n",
       "      <th>Month_name</th>\n",
       "      <th>Weekdaysort</th>\n",
       "      <th>Monthsort</th>\n",
       "      <th>Date</th>\n",
       "    </tr>\n",
       "  </thead>\n",
       "  <tbody>\n",
       "    <tr>\n",
       "      <th>0</th>\n",
       "      <td>10</td>\n",
       "      <td>card</td>\n",
       "      <td>38.7</td>\n",
       "      <td>Latte</td>\n",
       "      <td>Morning</td>\n",
       "      <td>Fri</td>\n",
       "      <td>Mar</td>\n",
       "      <td>5</td>\n",
       "      <td>3</td>\n",
       "      <td>2024-03-01</td>\n",
       "    </tr>\n",
       "    <tr>\n",
       "      <th>1</th>\n",
       "      <td>12</td>\n",
       "      <td>card</td>\n",
       "      <td>38.7</td>\n",
       "      <td>Hot Chocolate</td>\n",
       "      <td>Afternoon</td>\n",
       "      <td>Fri</td>\n",
       "      <td>Mar</td>\n",
       "      <td>5</td>\n",
       "      <td>3</td>\n",
       "      <td>2024-03-01</td>\n",
       "    </tr>\n",
       "    <tr>\n",
       "      <th>2</th>\n",
       "      <td>12</td>\n",
       "      <td>card</td>\n",
       "      <td>38.7</td>\n",
       "      <td>Hot Chocolate</td>\n",
       "      <td>Afternoon</td>\n",
       "      <td>Fri</td>\n",
       "      <td>Mar</td>\n",
       "      <td>5</td>\n",
       "      <td>3</td>\n",
       "      <td>2024-03-01</td>\n",
       "    </tr>\n",
       "    <tr>\n",
       "      <th>3</th>\n",
       "      <td>13</td>\n",
       "      <td>card</td>\n",
       "      <td>28.9</td>\n",
       "      <td>Americano</td>\n",
       "      <td>Afternoon</td>\n",
       "      <td>Fri</td>\n",
       "      <td>Mar</td>\n",
       "      <td>5</td>\n",
       "      <td>3</td>\n",
       "      <td>2024-03-01</td>\n",
       "    </tr>\n",
       "    <tr>\n",
       "      <th>4</th>\n",
       "      <td>13</td>\n",
       "      <td>card</td>\n",
       "      <td>38.7</td>\n",
       "      <td>Latte</td>\n",
       "      <td>Afternoon</td>\n",
       "      <td>Fri</td>\n",
       "      <td>Mar</td>\n",
       "      <td>5</td>\n",
       "      <td>3</td>\n",
       "      <td>2024-03-01</td>\n",
       "    </tr>\n",
       "  </tbody>\n",
       "</table>\n",
       "</div>"
      ],
      "text/plain": [
       "   hour_of_day cash_type  money    coffee_name Time_of_Day Weekday Month_name  \\\n",
       "0           10      card   38.7          Latte     Morning     Fri        Mar   \n",
       "1           12      card   38.7  Hot Chocolate   Afternoon     Fri        Mar   \n",
       "2           12      card   38.7  Hot Chocolate   Afternoon     Fri        Mar   \n",
       "3           13      card   28.9      Americano   Afternoon     Fri        Mar   \n",
       "4           13      card   38.7          Latte   Afternoon     Fri        Mar   \n",
       "\n",
       "   Weekdaysort  Monthsort        Date  \n",
       "0            5          3  2024-03-01  \n",
       "1            5          3  2024-03-01  \n",
       "2            5          3  2024-03-01  \n",
       "3            5          3  2024-03-01  \n",
       "4            5          3  2024-03-01  "
      ]
     },
     "execution_count": 7,
     "metadata": {},
     "output_type": "execute_result"
    }
   ],
   "source": [
    "df.head()"
   ]
  },
  {
   "cell_type": "markdown",
   "id": "86e8f84c",
   "metadata": {},
   "source": [
    "## Statistical Analysis\n",
    "\n",
    "df.info in Descriptive analysis and df.describe in Statistical analysis\n",
    "\n",
    "25%, 50%, 75% are Inter quartile range - useful in sales data analysis"
   ]
  },
  {
   "cell_type": "code",
   "execution_count": 8,
   "id": "81f6e37d",
   "metadata": {},
   "outputs": [
    {
     "data": {
      "text/html": [
       "<div>\n",
       "<style scoped>\n",
       "    .dataframe tbody tr th:only-of-type {\n",
       "        vertical-align: middle;\n",
       "    }\n",
       "\n",
       "    .dataframe tbody tr th {\n",
       "        vertical-align: top;\n",
       "    }\n",
       "\n",
       "    .dataframe thead th {\n",
       "        text-align: right;\n",
       "    }\n",
       "</style>\n",
       "<table border=\"1\" class=\"dataframe\">\n",
       "  <thead>\n",
       "    <tr style=\"text-align: right;\">\n",
       "      <th></th>\n",
       "      <th>hour_of_day</th>\n",
       "      <th>money</th>\n",
       "      <th>Weekdaysort</th>\n",
       "      <th>Monthsort</th>\n",
       "    </tr>\n",
       "  </thead>\n",
       "  <tbody>\n",
       "    <tr>\n",
       "      <th>count</th>\n",
       "      <td>3547.000000</td>\n",
       "      <td>3547.000000</td>\n",
       "      <td>3547.000000</td>\n",
       "      <td>3547.000000</td>\n",
       "    </tr>\n",
       "    <tr>\n",
       "      <th>mean</th>\n",
       "      <td>14.185791</td>\n",
       "      <td>31.645216</td>\n",
       "      <td>3.845785</td>\n",
       "      <td>6.453905</td>\n",
       "    </tr>\n",
       "    <tr>\n",
       "      <th>std</th>\n",
       "      <td>4.234010</td>\n",
       "      <td>4.877754</td>\n",
       "      <td>1.971501</td>\n",
       "      <td>3.500754</td>\n",
       "    </tr>\n",
       "    <tr>\n",
       "      <th>min</th>\n",
       "      <td>6.000000</td>\n",
       "      <td>18.120000</td>\n",
       "      <td>1.000000</td>\n",
       "      <td>1.000000</td>\n",
       "    </tr>\n",
       "    <tr>\n",
       "      <th>25%</th>\n",
       "      <td>10.000000</td>\n",
       "      <td>27.920000</td>\n",
       "      <td>2.000000</td>\n",
       "      <td>3.000000</td>\n",
       "    </tr>\n",
       "    <tr>\n",
       "      <th>50%</th>\n",
       "      <td>14.000000</td>\n",
       "      <td>32.820000</td>\n",
       "      <td>4.000000</td>\n",
       "      <td>7.000000</td>\n",
       "    </tr>\n",
       "    <tr>\n",
       "      <th>75%</th>\n",
       "      <td>18.000000</td>\n",
       "      <td>35.760000</td>\n",
       "      <td>6.000000</td>\n",
       "      <td>10.000000</td>\n",
       "    </tr>\n",
       "    <tr>\n",
       "      <th>max</th>\n",
       "      <td>22.000000</td>\n",
       "      <td>38.700000</td>\n",
       "      <td>7.000000</td>\n",
       "      <td>12.000000</td>\n",
       "    </tr>\n",
       "  </tbody>\n",
       "</table>\n",
       "</div>"
      ],
      "text/plain": [
       "       hour_of_day        money  Weekdaysort    Monthsort\n",
       "count  3547.000000  3547.000000  3547.000000  3547.000000\n",
       "mean     14.185791    31.645216     3.845785     6.453905\n",
       "std       4.234010     4.877754     1.971501     3.500754\n",
       "min       6.000000    18.120000     1.000000     1.000000\n",
       "25%      10.000000    27.920000     2.000000     3.000000\n",
       "50%      14.000000    32.820000     4.000000     7.000000\n",
       "75%      18.000000    35.760000     6.000000    10.000000\n",
       "max      22.000000    38.700000     7.000000    12.000000"
      ]
     },
     "execution_count": 8,
     "metadata": {},
     "output_type": "execute_result"
    }
   ],
   "source": [
    "df.describe()"
   ]
  },
  {
   "cell_type": "markdown",
   "id": "b16a9686",
   "metadata": {},
   "source": [
    "## Renaming the columns"
   ]
  },
  {
   "cell_type": "code",
   "execution_count": 9,
   "id": "493f488f",
   "metadata": {},
   "outputs": [
    {
     "data": {
      "text/html": [
       "<div>\n",
       "<style scoped>\n",
       "    .dataframe tbody tr th:only-of-type {\n",
       "        vertical-align: middle;\n",
       "    }\n",
       "\n",
       "    .dataframe tbody tr th {\n",
       "        vertical-align: top;\n",
       "    }\n",
       "\n",
       "    .dataframe thead th {\n",
       "        text-align: right;\n",
       "    }\n",
       "</style>\n",
       "<table border=\"1\" class=\"dataframe\">\n",
       "  <thead>\n",
       "    <tr style=\"text-align: right;\">\n",
       "      <th></th>\n",
       "      <th>hour_of_day</th>\n",
       "      <th>cash_type</th>\n",
       "      <th>money</th>\n",
       "      <th>coffee_name</th>\n",
       "      <th>Time_of_Day</th>\n",
       "      <th>Weekday</th>\n",
       "      <th>Month_name</th>\n",
       "      <th>Weekdaysort</th>\n",
       "      <th>Monthsort</th>\n",
       "      <th>Date</th>\n",
       "    </tr>\n",
       "  </thead>\n",
       "  <tbody>\n",
       "    <tr>\n",
       "      <th>0</th>\n",
       "      <td>10</td>\n",
       "      <td>card</td>\n",
       "      <td>38.7</td>\n",
       "      <td>Latte</td>\n",
       "      <td>Morning</td>\n",
       "      <td>Fri</td>\n",
       "      <td>Mar</td>\n",
       "      <td>5</td>\n",
       "      <td>3</td>\n",
       "      <td>2024-03-01</td>\n",
       "    </tr>\n",
       "    <tr>\n",
       "      <th>1</th>\n",
       "      <td>12</td>\n",
       "      <td>card</td>\n",
       "      <td>38.7</td>\n",
       "      <td>Hot Chocolate</td>\n",
       "      <td>Afternoon</td>\n",
       "      <td>Fri</td>\n",
       "      <td>Mar</td>\n",
       "      <td>5</td>\n",
       "      <td>3</td>\n",
       "      <td>2024-03-01</td>\n",
       "    </tr>\n",
       "    <tr>\n",
       "      <th>2</th>\n",
       "      <td>12</td>\n",
       "      <td>card</td>\n",
       "      <td>38.7</td>\n",
       "      <td>Hot Chocolate</td>\n",
       "      <td>Afternoon</td>\n",
       "      <td>Fri</td>\n",
       "      <td>Mar</td>\n",
       "      <td>5</td>\n",
       "      <td>3</td>\n",
       "      <td>2024-03-01</td>\n",
       "    </tr>\n",
       "    <tr>\n",
       "      <th>3</th>\n",
       "      <td>13</td>\n",
       "      <td>card</td>\n",
       "      <td>28.9</td>\n",
       "      <td>Americano</td>\n",
       "      <td>Afternoon</td>\n",
       "      <td>Fri</td>\n",
       "      <td>Mar</td>\n",
       "      <td>5</td>\n",
       "      <td>3</td>\n",
       "      <td>2024-03-01</td>\n",
       "    </tr>\n",
       "    <tr>\n",
       "      <th>4</th>\n",
       "      <td>13</td>\n",
       "      <td>card</td>\n",
       "      <td>38.7</td>\n",
       "      <td>Latte</td>\n",
       "      <td>Afternoon</td>\n",
       "      <td>Fri</td>\n",
       "      <td>Mar</td>\n",
       "      <td>5</td>\n",
       "      <td>3</td>\n",
       "      <td>2024-03-01</td>\n",
       "    </tr>\n",
       "  </tbody>\n",
       "</table>\n",
       "</div>"
      ],
      "text/plain": [
       "   hour_of_day cash_type  money    coffee_name Time_of_Day Weekday Month_name  \\\n",
       "0           10      card   38.7          Latte     Morning     Fri        Mar   \n",
       "1           12      card   38.7  Hot Chocolate   Afternoon     Fri        Mar   \n",
       "2           12      card   38.7  Hot Chocolate   Afternoon     Fri        Mar   \n",
       "3           13      card   28.9      Americano   Afternoon     Fri        Mar   \n",
       "4           13      card   38.7          Latte   Afternoon     Fri        Mar   \n",
       "\n",
       "   Weekdaysort  Monthsort        Date  \n",
       "0            5          3  2024-03-01  \n",
       "1            5          3  2024-03-01  \n",
       "2            5          3  2024-03-01  \n",
       "3            5          3  2024-03-01  \n",
       "4            5          3  2024-03-01  "
      ]
     },
     "execution_count": 9,
     "metadata": {},
     "output_type": "execute_result"
    }
   ],
   "source": [
    "df = df.rename(columns={\"vintage\": \"Vintage_new\"})\n",
    "df.head()"
   ]
  },
  {
   "cell_type": "code",
   "execution_count": 10,
   "id": "90e596f8",
   "metadata": {},
   "outputs": [
    {
     "data": {
      "text/plain": [
       "(3547, 10)"
      ]
     },
     "execution_count": 10,
     "metadata": {},
     "output_type": "execute_result"
    }
   ],
   "source": [
    "df.shape"
   ]
  },
  {
   "cell_type": "markdown",
   "id": "7d4dced0",
   "metadata": {},
   "source": [
    "## Data Cleaning\n",
    "### Check Data has duplicate values\n"
   ]
  },
  {
   "cell_type": "code",
   "execution_count": 11,
   "id": "3c6b4b41",
   "metadata": {},
   "outputs": [
    {
     "name": "stdout",
     "output_type": "stream",
     "text": [
      "NUmber of duplicate rows:  (613, 10)\n"
     ]
    }
   ],
   "source": [
    "duplicate_rows_df = df[df.duplicated()]\n",
    "\n",
    "print(\"NUmber of duplicate rows: \", duplicate_rows_df.shape)"
   ]
  },
  {
   "cell_type": "markdown",
   "id": "6d993392",
   "metadata": {},
   "source": [
    "### Dropping thr duplicate rows"
   ]
  },
  {
   "cell_type": "code",
   "execution_count": 12,
   "id": "c8acd4ca",
   "metadata": {},
   "outputs": [
    {
     "data": {
      "text/plain": [
       "(2934, 10)"
      ]
     },
     "execution_count": 12,
     "metadata": {},
     "output_type": "execute_result"
    }
   ],
   "source": [
    "df = df.drop_duplicates()\n",
    "df.shape"
   ]
  },
  {
   "cell_type": "markdown",
   "id": "4b7a1446",
   "metadata": {},
   "source": [
    "### Handle Null value - Either remove that data or replace it\n"
   ]
  },
  {
   "cell_type": "code",
   "execution_count": 13,
   "id": "4ce11c7c",
   "metadata": {},
   "outputs": [
    {
     "name": "stdout",
     "output_type": "stream",
     "text": [
      "hour_of_day    0\n",
      "cash_type      0\n",
      "money          0\n",
      "coffee_name    0\n",
      "Time_of_Day    0\n",
      "Weekday        0\n",
      "Month_name     0\n",
      "Weekdaysort    0\n",
      "Monthsort      0\n",
      "Date           0\n",
      "dtype: int64\n"
     ]
    }
   ],
   "source": [
    "print(df.isnull().sum())"
   ]
  },
  {
   "cell_type": "markdown",
   "id": "e50fa516",
   "metadata": {},
   "source": [
    "### Drop NaN values record"
   ]
  },
  {
   "cell_type": "code",
   "execution_count": 14,
   "id": "ef1912c9",
   "metadata": {},
   "outputs": [],
   "source": [
    "df = df.dropna()"
   ]
  },
  {
   "cell_type": "code",
   "execution_count": 15,
   "id": "cdb7442e",
   "metadata": {},
   "outputs": [
    {
     "name": "stdout",
     "output_type": "stream",
     "text": [
      "<class 'pandas.core.frame.DataFrame'>\n",
      "Index: 2934 entries, 0 to 3546\n",
      "Data columns (total 10 columns):\n",
      " #   Column       Non-Null Count  Dtype  \n",
      "---  ------       --------------  -----  \n",
      " 0   hour_of_day  2934 non-null   int64  \n",
      " 1   cash_type    2934 non-null   object \n",
      " 2   money        2934 non-null   float64\n",
      " 3   coffee_name  2934 non-null   object \n",
      " 4   Time_of_Day  2934 non-null   object \n",
      " 5   Weekday      2934 non-null   object \n",
      " 6   Month_name   2934 non-null   object \n",
      " 7   Weekdaysort  2934 non-null   int64  \n",
      " 8   Monthsort    2934 non-null   int64  \n",
      " 9   Date         2934 non-null   object \n",
      "dtypes: float64(1), int64(3), object(6)\n",
      "memory usage: 252.1+ KB\n"
     ]
    }
   ],
   "source": [
    "df.info()"
   ]
  }
 ],
 "metadata": {
  "kernelspec": {
   "display_name": "Python 3",
   "language": "python",
   "name": "python3"
  },
  "language_info": {
   "codemirror_mode": {
    "name": "ipython",
    "version": 3
   },
   "file_extension": ".py",
   "mimetype": "text/x-python",
   "name": "python",
   "nbconvert_exporter": "python",
   "pygments_lexer": "ipython3",
   "version": "3.11.9"
  }
 },
 "nbformat": 4,
 "nbformat_minor": 5
}
