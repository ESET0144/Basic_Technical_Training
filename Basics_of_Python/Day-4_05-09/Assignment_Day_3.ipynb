{
 "cells": [
  {
   "cell_type": "markdown",
   "id": "c0febf9f",
   "metadata": {},
   "source": [
    "## Assignment - Day -3"
   ]
  },
  {
   "cell_type": "code",
   "execution_count": 8,
   "id": "ef4b7aa3",
   "metadata": {},
   "outputs": [],
   "source": [
    "import numpy as np\n",
    "import pandas as pd"
   ]
  },
  {
   "cell_type": "code",
   "execution_count": 9,
   "id": "0b32685f",
   "metadata": {},
   "outputs": [
    {
     "name": "stdout",
     "output_type": "stream",
     "text": [
      "2D Matrix :\n",
      " [[1 3 5]\n",
      " [4 6 2]\n",
      " [4 2 1]]\n",
      "2D Matrix * 2 : \n",
      "[[ 2  6 10]\n",
      " [ 8 12  4]\n",
      " [ 8  4  2]]\n"
     ]
    }
   ],
   "source": [
    "\n",
    "matrix = np.array([[1,3,5],\n",
    "             [4,6,2],\n",
    "             [4,2,1]])\n",
    "\n",
    "matrix_double = matrix * 2\n",
    "\n",
    "print(f\"2D Matrix :\\n {matrix}\")\n",
    "print(f\"2D Matrix * 2 : \\n{matrix_double}\")"
   ]
  },
  {
   "cell_type": "code",
   "execution_count": 10,
   "id": "2d30af1d",
   "metadata": {},
   "outputs": [
    {
     "name": "stdout",
     "output_type": "stream",
     "text": [
      "  product_name  price  stock_quantity\n",
      "0       Basket    200              56\n",
      "1          Bag    500              35\n",
      "2      Trolley   2000             454\n"
     ]
    }
   ],
   "source": [
    "#2\n",
    "\n",
    "dictionary = {\"product_name\":[\"Basket\", \"Bag\", \"Trolley\"], \"price\":[200, 500, 2000], \"stock_quantity\":[56, 35, 454]}\n",
    "\n",
    "df = pd.DataFrame(dictionary)\n",
    "\n",
    "print(df)"
   ]
  },
  {
   "cell_type": "code",
   "execution_count": 11,
   "id": "3d0a68e8",
   "metadata": {},
   "outputs": [
    {
     "name": "stdout",
     "output_type": "stream",
     "text": [
      "  product_name  price  stock_quantity\n",
      "0       Basket    200              56\n",
      "2      Trolley   2000             454\n"
     ]
    }
   ],
   "source": [
    "#3\n",
    "df2 = df[df[\"stock_quantity\"]> 50]\n",
    "print(df2)"
   ]
  }
 ],
 "metadata": {
  "kernelspec": {
   "display_name": "Python 3",
   "language": "python",
   "name": "python3"
  },
  "language_info": {
   "codemirror_mode": {
    "name": "ipython",
    "version": 3
   },
   "file_extension": ".py",
   "mimetype": "text/x-python",
   "name": "python",
   "nbconvert_exporter": "python",
   "pygments_lexer": "ipython3",
   "version": "3.11.9"
  }
 },
 "nbformat": 4,
 "nbformat_minor": 5
}
