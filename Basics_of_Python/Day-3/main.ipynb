{
 "cells": [
  {
   "cell_type": "code",
   "execution_count": 3,
   "id": "8eb52437",
   "metadata": {},
   "outputs": [],
   "source": [
    "import numpy as np\n",
    "import pandas as pd\n",
    "import matplotlib.pyplot as plt"
   ]
  },
  {
   "cell_type": "markdown",
   "id": "e65fca09",
   "metadata": {},
   "source": [
    "# Functions\n",
    "### Function definitions"
   ]
  },
  {
   "cell_type": "code",
   "execution_count": 4,
   "id": "e4f5f10b",
   "metadata": {},
   "outputs": [],
   "source": [
    "def student_info(name, age = 18):\n",
    "    print(name, age)\n",
    "\n",
    "\n",
    "\n"
   ]
  },
  {
   "cell_type": "markdown",
   "id": "64367c3f",
   "metadata": {},
   "source": [
    "### Function calling"
   ]
  },
  {
   "cell_type": "code",
   "execution_count": 5,
   "id": "a97200a3",
   "metadata": {},
   "outputs": [
    {
     "name": "stdout",
     "output_type": "stream",
     "text": [
      "John 18\n",
      "Alice 22\n"
     ]
    }
   ],
   "source": [
    "student_info(\"John\")\n",
    "student_info(\"Alice\",22)"
   ]
  },
  {
   "cell_type": "markdown",
   "id": "0000c350",
   "metadata": {},
   "source": [
    "### Math module"
   ]
  },
  {
   "cell_type": "code",
   "execution_count": 6,
   "id": "43812e50",
   "metadata": {},
   "outputs": [
    {
     "name": "stdout",
     "output_type": "stream",
     "text": [
      "6.708203932499369\n"
     ]
    }
   ],
   "source": [
    "import math\n",
    "\n",
    "a = math.sqrt(45)\n",
    "print(a)"
   ]
  },
  {
   "cell_type": "markdown",
   "id": "3492c985",
   "metadata": {},
   "source": [
    "## Numpy"
   ]
  },
  {
   "cell_type": "code",
   "execution_count": 7,
   "id": "8ec4ffd0",
   "metadata": {},
   "outputs": [
    {
     "name": "stdout",
     "output_type": "stream",
     "text": [
      "Requirement already satisfied: numpy in c:\\users\\user\\appdata\\local\\packages\\pythonsoftwarefoundation.python.3.11_qbz5n2kfra8p0\\localcache\\local-packages\\python311\\site-packages (2.3.2)\n"
     ]
    }
   ],
   "source": [
    "!pip install numpy\n"
   ]
  },
  {
   "cell_type": "code",
   "execution_count": 8,
   "id": "54e5e1a0",
   "metadata": {},
   "outputs": [
    {
     "name": "stdout",
     "output_type": "stream",
     "text": [
      "[[[2 8 4]\n",
      "  [3 6 2]\n",
      "  [4 1 2]]]\n"
     ]
    }
   ],
   "source": [
    "x = np.array([1,4,3])\n",
    "\n",
    "y = np.array([[3,5,2], [2,6,3]])\n",
    "\n",
    "z = np.array([[[2,8,4],[3,6,2],[4,1,2]]])\n",
    "\n",
    "print(z)"
   ]
  },
  {
   "cell_type": "markdown",
   "id": "edf7491a",
   "metadata": {},
   "source": [
    "## Pandas"
   ]
  },
  {
   "cell_type": "code",
   "execution_count": 9,
   "id": "4ee77936",
   "metadata": {},
   "outputs": [],
   "source": [
    "import pandas as pd #importing pandas library\n",
    "\n"
   ]
  },
  {
   "cell_type": "code",
   "execution_count": 10,
   "id": "8cd35a09",
   "metadata": {},
   "outputs": [
    {
     "name": "stdout",
     "output_type": "stream",
     "text": [
      "{'Name': ['Alice', 'Bob', 'Charlie'], 'Age': [23, 25, 21], 'Salary': [45642, 73453, 64353]}\n"
     ]
    }
   ],
   "source": [
    "data = {\n",
    "    \"Name\": [\"Alice\", \"Bob\", \"Charlie\"],\n",
    "    \"Age\" : [23,25,21],\n",
    "    \"Salary\" : [45642,73453,64353]\n",
    "}\n",
    "\n",
    "print(data)"
   ]
  },
  {
   "cell_type": "code",
   "execution_count": 11,
   "id": "dc6c3506",
   "metadata": {},
   "outputs": [
    {
     "name": "stdout",
     "output_type": "stream",
     "text": [
      "      Name  Age  Salary\n",
      "0    Alice   23   45642\n",
      "1      Bob   25   73453\n",
      "2  Charlie   21   64353\n"
     ]
    }
   ],
   "source": [
    "print(pd.DataFrame(data))"
   ]
  },
  {
   "cell_type": "code",
   "execution_count": 12,
   "id": "128c9856",
   "metadata": {},
   "outputs": [
    {
     "name": "stdout",
     "output_type": "stream",
     "text": [
      "              Date      Time    Booking ID   Booking Status   Customer ID  \\\n",
      "0       2024-03-23  12:29:38  \"CNR5884300\"  No Driver Found  \"CID1982111\"   \n",
      "1       2024-11-29  18:01:39  \"CNR1326809\"       Incomplete  \"CID4604802\"   \n",
      "2       2024-08-23  08:56:10  \"CNR8494506\"        Completed  \"CID9202816\"   \n",
      "3       2024-10-21  17:17:25  \"CNR8906825\"        Completed  \"CID2610914\"   \n",
      "4       2024-09-16  22:08:00  \"CNR1950162\"        Completed  \"CID9933542\"   \n",
      "...            ...       ...           ...              ...           ...   \n",
      "149995  2024-11-11  19:34:01  \"CNR6500631\"        Completed  \"CID4337371\"   \n",
      "149996  2024-11-24  15:55:09  \"CNR2468611\"        Completed  \"CID2325623\"   \n",
      "149997  2024-09-18  10:55:15  \"CNR6358306\"        Completed  \"CID9925486\"   \n",
      "149998  2024-10-05  07:53:34  \"CNR3030099\"        Completed  \"CID9415487\"   \n",
      "149999  2024-03-10  15:38:03  \"CNR3447390\"        Completed  \"CID4108667\"   \n",
      "\n",
      "         Vehicle Type         Pickup Location      Drop Location  Avg VTAT  \\\n",
      "0               eBike             Palam Vihar            Jhilmil       NaN   \n",
      "1            Go Sedan           Shastri Nagar  Gurgaon Sector 56       4.9   \n",
      "2                Auto                 Khandsa      Malviya Nagar      13.4   \n",
      "3       Premier Sedan     Central Secretariat           Inderlok      13.1   \n",
      "4                Bike        Ghitorni Village        Khan Market       5.3   \n",
      "...               ...                     ...                ...       ...   \n",
      "149995        Go Mini                 MG Road           Ghitorni      10.2   \n",
      "149996        Go Mini        Golf Course Road         Akshardham       5.1   \n",
      "149997       Go Sedan  Satguru Ram Singh Marg           Jor Bagh       2.7   \n",
      "149998           Auto               Ghaziabad         Saidulajab       6.9   \n",
      "149999  Premier Sedan         Ashok Park Main  Gurgaon Sector 29       3.5   \n",
      "\n",
      "        Avg CTAT  ...  Reason for cancelling by Customer  \\\n",
      "0            NaN  ...                                NaN   \n",
      "1           14.0  ...                                NaN   \n",
      "2           25.8  ...                                NaN   \n",
      "3           28.5  ...                                NaN   \n",
      "4           19.6  ...                                NaN   \n",
      "...          ...  ...                                ...   \n",
      "149995      44.4  ...                                NaN   \n",
      "149996      30.8  ...                                NaN   \n",
      "149997      23.4  ...                                NaN   \n",
      "149998      39.6  ...                                NaN   \n",
      "149999      33.7  ...                                NaN   \n",
      "\n",
      "       Cancelled Rides by Driver  Driver Cancellation Reason Incomplete Rides  \\\n",
      "0                            NaN                         NaN              NaN   \n",
      "1                            NaN                         NaN              1.0   \n",
      "2                            NaN                         NaN              NaN   \n",
      "3                            NaN                         NaN              NaN   \n",
      "4                            NaN                         NaN              NaN   \n",
      "...                          ...                         ...              ...   \n",
      "149995                       NaN                         NaN              NaN   \n",
      "149996                       NaN                         NaN              NaN   \n",
      "149997                       NaN                         NaN              NaN   \n",
      "149998                       NaN                         NaN              NaN   \n",
      "149999                       NaN                         NaN              NaN   \n",
      "\n",
      "        Incomplete Rides Reason Booking Value  Ride Distance  Driver Ratings  \\\n",
      "0                           NaN           NaN            NaN             NaN   \n",
      "1             Vehicle Breakdown         237.0           5.73             NaN   \n",
      "2                           NaN         627.0          13.58             4.9   \n",
      "3                           NaN         416.0          34.02             4.6   \n",
      "4                           NaN         737.0          48.21             4.1   \n",
      "...                         ...           ...            ...             ...   \n",
      "149995                      NaN         475.0          40.08             3.7   \n",
      "149996                      NaN        1093.0          21.31             4.8   \n",
      "149997                      NaN         852.0          15.93             3.9   \n",
      "149998                      NaN         333.0          45.54             4.1   \n",
      "149999                      NaN         806.0          21.19             4.6   \n",
      "\n",
      "        Customer Rating  Payment Method  \n",
      "0                   NaN             NaN  \n",
      "1                   NaN             UPI  \n",
      "2                   4.9      Debit Card  \n",
      "3                   5.0             UPI  \n",
      "4                   4.3             UPI  \n",
      "...                 ...             ...  \n",
      "149995              4.1     Uber Wallet  \n",
      "149996              5.0             UPI  \n",
      "149997              4.4            Cash  \n",
      "149998              3.7             UPI  \n",
      "149999              4.9     Credit Card  \n",
      "\n",
      "[150000 rows x 21 columns]\n"
     ]
    }
   ],
   "source": [
    "df = pd.read_csv(\"D:/Basicsd/Basics of Python/Day-3/uber_ncr_ride_bookings.csv\")\n",
    "\n",
    "print(df)"
   ]
  },
  {
   "cell_type": "code",
   "execution_count": 13,
   "id": "8eb37240",
   "metadata": {},
   "outputs": [
    {
     "data": {
      "text/html": [
       "<div>\n",
       "<style scoped>\n",
       "    .dataframe tbody tr th:only-of-type {\n",
       "        vertical-align: middle;\n",
       "    }\n",
       "\n",
       "    .dataframe tbody tr th {\n",
       "        vertical-align: top;\n",
       "    }\n",
       "\n",
       "    .dataframe thead th {\n",
       "        text-align: right;\n",
       "    }\n",
       "</style>\n",
       "<table border=\"1\" class=\"dataframe\">\n",
       "  <thead>\n",
       "    <tr style=\"text-align: right;\">\n",
       "      <th></th>\n",
       "      <th>Date</th>\n",
       "      <th>Time</th>\n",
       "      <th>Booking ID</th>\n",
       "      <th>Booking Status</th>\n",
       "      <th>Customer ID</th>\n",
       "      <th>Vehicle Type</th>\n",
       "      <th>Pickup Location</th>\n",
       "      <th>Drop Location</th>\n",
       "      <th>Avg VTAT</th>\n",
       "      <th>Avg CTAT</th>\n",
       "      <th>...</th>\n",
       "      <th>Reason for cancelling by Customer</th>\n",
       "      <th>Cancelled Rides by Driver</th>\n",
       "      <th>Driver Cancellation Reason</th>\n",
       "      <th>Incomplete Rides</th>\n",
       "      <th>Incomplete Rides Reason</th>\n",
       "      <th>Booking Value</th>\n",
       "      <th>Ride Distance</th>\n",
       "      <th>Driver Ratings</th>\n",
       "      <th>Customer Rating</th>\n",
       "      <th>Payment Method</th>\n",
       "    </tr>\n",
       "  </thead>\n",
       "  <tbody>\n",
       "    <tr>\n",
       "      <th>0</th>\n",
       "      <td>2024-03-23</td>\n",
       "      <td>12:29:38</td>\n",
       "      <td>\"CNR5884300\"</td>\n",
       "      <td>No Driver Found</td>\n",
       "      <td>\"CID1982111\"</td>\n",
       "      <td>eBike</td>\n",
       "      <td>Palam Vihar</td>\n",
       "      <td>Jhilmil</td>\n",
       "      <td>NaN</td>\n",
       "      <td>NaN</td>\n",
       "      <td>...</td>\n",
       "      <td>NaN</td>\n",
       "      <td>NaN</td>\n",
       "      <td>NaN</td>\n",
       "      <td>NaN</td>\n",
       "      <td>NaN</td>\n",
       "      <td>NaN</td>\n",
       "      <td>NaN</td>\n",
       "      <td>NaN</td>\n",
       "      <td>NaN</td>\n",
       "      <td>NaN</td>\n",
       "    </tr>\n",
       "    <tr>\n",
       "      <th>1</th>\n",
       "      <td>2024-11-29</td>\n",
       "      <td>18:01:39</td>\n",
       "      <td>\"CNR1326809\"</td>\n",
       "      <td>Incomplete</td>\n",
       "      <td>\"CID4604802\"</td>\n",
       "      <td>Go Sedan</td>\n",
       "      <td>Shastri Nagar</td>\n",
       "      <td>Gurgaon Sector 56</td>\n",
       "      <td>4.9</td>\n",
       "      <td>14.0</td>\n",
       "      <td>...</td>\n",
       "      <td>NaN</td>\n",
       "      <td>NaN</td>\n",
       "      <td>NaN</td>\n",
       "      <td>1.0</td>\n",
       "      <td>Vehicle Breakdown</td>\n",
       "      <td>237.0</td>\n",
       "      <td>5.73</td>\n",
       "      <td>NaN</td>\n",
       "      <td>NaN</td>\n",
       "      <td>UPI</td>\n",
       "    </tr>\n",
       "    <tr>\n",
       "      <th>2</th>\n",
       "      <td>2024-08-23</td>\n",
       "      <td>08:56:10</td>\n",
       "      <td>\"CNR8494506\"</td>\n",
       "      <td>Completed</td>\n",
       "      <td>\"CID9202816\"</td>\n",
       "      <td>Auto</td>\n",
       "      <td>Khandsa</td>\n",
       "      <td>Malviya Nagar</td>\n",
       "      <td>13.4</td>\n",
       "      <td>25.8</td>\n",
       "      <td>...</td>\n",
       "      <td>NaN</td>\n",
       "      <td>NaN</td>\n",
       "      <td>NaN</td>\n",
       "      <td>NaN</td>\n",
       "      <td>NaN</td>\n",
       "      <td>627.0</td>\n",
       "      <td>13.58</td>\n",
       "      <td>4.9</td>\n",
       "      <td>4.9</td>\n",
       "      <td>Debit Card</td>\n",
       "    </tr>\n",
       "    <tr>\n",
       "      <th>3</th>\n",
       "      <td>2024-10-21</td>\n",
       "      <td>17:17:25</td>\n",
       "      <td>\"CNR8906825\"</td>\n",
       "      <td>Completed</td>\n",
       "      <td>\"CID2610914\"</td>\n",
       "      <td>Premier Sedan</td>\n",
       "      <td>Central Secretariat</td>\n",
       "      <td>Inderlok</td>\n",
       "      <td>13.1</td>\n",
       "      <td>28.5</td>\n",
       "      <td>...</td>\n",
       "      <td>NaN</td>\n",
       "      <td>NaN</td>\n",
       "      <td>NaN</td>\n",
       "      <td>NaN</td>\n",
       "      <td>NaN</td>\n",
       "      <td>416.0</td>\n",
       "      <td>34.02</td>\n",
       "      <td>4.6</td>\n",
       "      <td>5.0</td>\n",
       "      <td>UPI</td>\n",
       "    </tr>\n",
       "    <tr>\n",
       "      <th>4</th>\n",
       "      <td>2024-09-16</td>\n",
       "      <td>22:08:00</td>\n",
       "      <td>\"CNR1950162\"</td>\n",
       "      <td>Completed</td>\n",
       "      <td>\"CID9933542\"</td>\n",
       "      <td>Bike</td>\n",
       "      <td>Ghitorni Village</td>\n",
       "      <td>Khan Market</td>\n",
       "      <td>5.3</td>\n",
       "      <td>19.6</td>\n",
       "      <td>...</td>\n",
       "      <td>NaN</td>\n",
       "      <td>NaN</td>\n",
       "      <td>NaN</td>\n",
       "      <td>NaN</td>\n",
       "      <td>NaN</td>\n",
       "      <td>737.0</td>\n",
       "      <td>48.21</td>\n",
       "      <td>4.1</td>\n",
       "      <td>4.3</td>\n",
       "      <td>UPI</td>\n",
       "    </tr>\n",
       "  </tbody>\n",
       "</table>\n",
       "<p>5 rows × 21 columns</p>\n",
       "</div>"
      ],
      "text/plain": [
       "         Date      Time    Booking ID   Booking Status   Customer ID  \\\n",
       "0  2024-03-23  12:29:38  \"CNR5884300\"  No Driver Found  \"CID1982111\"   \n",
       "1  2024-11-29  18:01:39  \"CNR1326809\"       Incomplete  \"CID4604802\"   \n",
       "2  2024-08-23  08:56:10  \"CNR8494506\"        Completed  \"CID9202816\"   \n",
       "3  2024-10-21  17:17:25  \"CNR8906825\"        Completed  \"CID2610914\"   \n",
       "4  2024-09-16  22:08:00  \"CNR1950162\"        Completed  \"CID9933542\"   \n",
       "\n",
       "    Vehicle Type      Pickup Location      Drop Location  Avg VTAT  Avg CTAT  \\\n",
       "0          eBike          Palam Vihar            Jhilmil       NaN       NaN   \n",
       "1       Go Sedan        Shastri Nagar  Gurgaon Sector 56       4.9      14.0   \n",
       "2           Auto              Khandsa      Malviya Nagar      13.4      25.8   \n",
       "3  Premier Sedan  Central Secretariat           Inderlok      13.1      28.5   \n",
       "4           Bike     Ghitorni Village        Khan Market       5.3      19.6   \n",
       "\n",
       "   ...  Reason for cancelling by Customer Cancelled Rides by Driver  \\\n",
       "0  ...                                NaN                       NaN   \n",
       "1  ...                                NaN                       NaN   \n",
       "2  ...                                NaN                       NaN   \n",
       "3  ...                                NaN                       NaN   \n",
       "4  ...                                NaN                       NaN   \n",
       "\n",
       "   Driver Cancellation Reason Incomplete Rides  Incomplete Rides Reason  \\\n",
       "0                         NaN              NaN                      NaN   \n",
       "1                         NaN              1.0        Vehicle Breakdown   \n",
       "2                         NaN              NaN                      NaN   \n",
       "3                         NaN              NaN                      NaN   \n",
       "4                         NaN              NaN                      NaN   \n",
       "\n",
       "  Booking Value  Ride Distance  Driver Ratings  Customer Rating  \\\n",
       "0           NaN            NaN             NaN              NaN   \n",
       "1         237.0           5.73             NaN              NaN   \n",
       "2         627.0          13.58             4.9              4.9   \n",
       "3         416.0          34.02             4.6              5.0   \n",
       "4         737.0          48.21             4.1              4.3   \n",
       "\n",
       "   Payment Method  \n",
       "0             NaN  \n",
       "1             UPI  \n",
       "2      Debit Card  \n",
       "3             UPI  \n",
       "4             UPI  \n",
       "\n",
       "[5 rows x 21 columns]"
      ]
     },
     "execution_count": 13,
     "metadata": {},
     "output_type": "execute_result"
    }
   ],
   "source": [
    "df.head()"
   ]
  }
 ],
 "metadata": {
  "kernelspec": {
   "display_name": "Python 3",
   "language": "python",
   "name": "python3"
  },
  "language_info": {
   "codemirror_mode": {
    "name": "ipython",
    "version": 3
   },
   "file_extension": ".py",
   "mimetype": "text/x-python",
   "name": "python",
   "nbconvert_exporter": "python",
   "pygments_lexer": "ipython3",
   "version": "3.11.9"
  }
 },
 "nbformat": 4,
 "nbformat_minor": 5
}
